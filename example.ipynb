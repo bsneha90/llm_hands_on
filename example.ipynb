{
 "cells": [
  {
   "cell_type": "code",
   "execution_count": null,
   "id": "4c447b23-359f-475f-9c23-3d23b8e9175a",
   "metadata": {},
   "outputs": [],
   "source": [
    "# imports\n",
    "\n",
    "import requests\n",
    "from bs4 import BeautifulSoup #to scrape website\n",
    "from IPython.display import Markdown, display\n",
    "from openai import OpenAI #to connect to ai modal"
   ]
  },
  {
   "cell_type": "code",
   "execution_count": null,
   "id": "9fc47908-7b96-4dbd-8d06-93e02e18b72d",
   "metadata": {},
   "outputs": [],
   "source": [
    "# Use open ai library to connect to locally running ollama api\n",
    "# Here it is - see the base_url\n",
    "\n",
    "openai = OpenAI(base_url='http://localhost:11434/v1', api_key='ollama')"
   ]
  },
  {
   "cell_type": "code",
   "execution_count": null,
   "id": "5bcbbfe8-8761-4bc3-87fa-50c9cd7ac1d4",
   "metadata": {},
   "outputs": [],
   "source": [
    "# Let's try a  simple prompt\n",
    "\n",
    "message = \"Hello, Llama! This is my first ever message to you! Hi!\"\n",
    "response = openai.chat.completions.create(model=\"llama3.2\", messages=[{\"role\":\"user\", \"content\":message}])\n",
    "print(response.choices[0].message.content)"
   ]
  },
  {
   "cell_type": "code",
   "execution_count": null,
   "id": "2677591f-a808-49d9-9f77-531b33725c1a",
   "metadata": {},
   "outputs": [],
   "source": [
    "#Now we will build a sample application to summarize any given website\n",
    "\n",
    "headers = {\n",
    " \"User-Agent\": \"Mozilla/5.0 (Windows NT 10.0; Win64; x64) AppleWebKit/537.36 (KHTML, like Gecko) Chrome/117.0.0.0 Safari/537.36\"\n",
    "}\n",
    "\n",
    "class Website:\n",
    "\n",
    "    def __init__(self, url):\n",
    "        self.url = url\n",
    "        response = requests.get(url, headers=headers)\n",
    "        soup = BeautifulSoup(response.content, 'html.parser')\n",
    "        self.title = soup.title.string if soup.title else \"No title found\"\n",
    "        for irrelevant in soup.body([\"script\", \"style\", \"img\", \"input\"]):\n",
    "            irrelevant.decompose()\n",
    "        self.text = soup.body.get_text(separator=\"\\n\", strip=True)"
   ]
  },
  {
   "cell_type": "code",
   "execution_count": null,
   "id": "2c0577c4-22d0-40a8-83bb-35c5c1367f5a",
   "metadata": {},
   "outputs": [],
   "source": [
    "website = Website(\"https://medium.com/@snehabagri.90/choosing-kafka-wisely-17768a27c616\")\n",
    "print(website.title)\n",
    "print(website.text)"
   ]
  },
  {
   "cell_type": "code",
   "execution_count": null,
   "id": "fae0fb20-50e4-4020-9ccf-0298396cc46e",
   "metadata": {},
   "outputs": [],
   "source": [
    "# Define our system prompt - that tells them what task they are performing and what tone they should use \"\n",
    "\n",
    "system_prompt = \"You are a content manager that analyzes the main content of a website \\\n",
    "and produces a concise summary, omitting any navigation or menu-related text.\""
   ]
  },
  {
   "cell_type": "code",
   "execution_count": null,
   "id": "f2fa2010-7cd9-482a-ae0f-10184df70995",
   "metadata": {},
   "outputs": [],
   "source": [
    "# A function that writes a User Prompt that asks for summaries of websites:\n",
    "\n",
    "def user_prompt_for(website):\n",
    "    user_prompt = f\"You are looking at a website titled {website.title}\"\n",
    "    user_prompt += \"\\nThe contents of this website is as follows; \\\n",
    "please provide a short summary of this website in markdown. \\\n",
    "If it includes news or announcements, then summarize these too.\\n\\n\"\n",
    "    user_prompt += website.text\n",
    "    return user_prompt"
   ]
  },
  {
   "cell_type": "code",
   "execution_count": null,
   "id": "140466c6-8428-451b-a68a-7e0021279c3f",
   "metadata": {},
   "outputs": [],
   "source": [
    "print(user_prompt_for(website))"
   ]
  },
  {
   "cell_type": "code",
   "execution_count": null,
   "id": "f32d9434-393f-4412-a97a-88178be54c1e",
   "metadata": {},
   "outputs": [],
   "source": [
    "# OpenAI expects data in a specific format\n",
    "\n",
    "messages = [\n",
    "    {\"role\": \"system\", \"content\": \"You are an AI engineer\"},\n",
    "    {\"role\": \"user\", \"content\": \"Explain LLM to a kid?\"}\n",
    "]"
   ]
  },
  {
   "cell_type": "code",
   "execution_count": null,
   "id": "8cd19670-435a-492c-9fc0-f5f53e78cea9",
   "metadata": {},
   "outputs": [],
   "source": [
    "# To give you a preview -- calling OpenAI with system and user messages:\n",
    "\n",
    "response = openai.chat.completions.create(model=\"llama3.2\", messages=messages)\n",
    "print(response.choices[0].message.content)"
   ]
  },
  {
   "cell_type": "code",
   "execution_count": null,
   "id": "21cb9fc9-0f4b-4504-b2c8-31d6a1d72c8d",
   "metadata": {},
   "outputs": [],
   "source": [
    "# See how this function creates exactly the format above\n",
    "\n",
    "def messages_for(website):\n",
    "    return [\n",
    "        {\"role\": \"system\", \"content\": system_prompt},\n",
    "        {\"role\": \"user\", \"content\": user_prompt_for(website)}\n",
    "    ]"
   ]
  },
  {
   "cell_type": "code",
   "execution_count": null,
   "id": "2a9c3a36-1bb9-4700-a09e-5143619e8cd3",
   "metadata": {},
   "outputs": [],
   "source": [
    "messages_for(website)"
   ]
  },
  {
   "cell_type": "code",
   "execution_count": null,
   "id": "2db321de-f06e-4cc6-8275-eaf54c3d668d",
   "metadata": {},
   "outputs": [],
   "source": [
    "# And now: call the OpenAI API with model llama\n",
    "\n",
    "def summarize(url):\n",
    "    website = Website(url)\n",
    "    response = openai.chat.completions.create(\n",
    "        model = \"llama3.2\",\n",
    "        messages = messages_for(website)\n",
    "    )\n",
    "    return response.choices[0].message.content"
   ]
  },
  {
   "cell_type": "code",
   "execution_count": null,
   "id": "69149e8b-4125-4a11-9702-9e9165995962",
   "metadata": {},
   "outputs": [],
   "source": [
    "summary=summarize(\"https://medium.com/@snehabagri.90/choosing-kafka-wisely-17768a27c616\")\n",
    "print(summary)"
   ]
  },
  {
   "cell_type": "code",
   "execution_count": null,
   "id": "33ae9079-2958-4e54-8f5c-afbaf50d9988",
   "metadata": {},
   "outputs": [],
   "source": [
    "Markdown(summary)"
   ]
  },
  {
   "cell_type": "code",
   "execution_count": null,
   "id": "8b4bace6-b5de-41c5-92cf-d8cb2a2e2088",
   "metadata": {},
   "outputs": [],
   "source": []
  }
 ],
 "metadata": {
  "kernelspec": {
   "display_name": "Python 3 (ipykernel)",
   "language": "python",
   "name": "python3"
  },
  "language_info": {
   "codemirror_mode": {
    "name": "ipython",
    "version": 3
   },
   "file_extension": ".py",
   "mimetype": "text/x-python",
   "name": "python",
   "nbconvert_exporter": "python",
   "pygments_lexer": "ipython3",
   "version": "3.12.11"
  }
 },
 "nbformat": 4,
 "nbformat_minor": 5
}
